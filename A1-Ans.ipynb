{
 "cells": [
  {
   "cell_type": "markdown",
   "id": "bbfed113",
   "metadata": {},
   "source": [
    "# Q7"
   ]
  },
  {
   "cell_type": "code",
   "execution_count": 1,
   "id": "23c3411d",
   "metadata": {
    "ExecuteTime": {
     "end_time": "2022-12-14T07:10:32.037477Z",
     "start_time": "2022-12-14T07:10:25.899263Z"
    }
   },
   "outputs": [],
   "source": [
    "import pandas as pd \n",
    "import numpy as np \n",
    "Q7=pd.read_csv('Q7.csv')"
   ]
  },
  {
   "cell_type": "markdown",
   "id": "45e26fdb",
   "metadata": {},
   "source": [
    "# Points"
   ]
  },
  {
   "cell_type": "code",
   "execution_count": 2,
   "id": "a866d6c3",
   "metadata": {
    "ExecuteTime": {
     "end_time": "2022-12-14T07:12:01.299104Z",
     "start_time": "2022-12-14T07:12:01.267117Z"
    }
   },
   "outputs": [
    {
     "data": {
      "text/plain": [
       "3.5965625000000006"
      ]
     },
     "execution_count": 2,
     "metadata": {},
     "output_type": "execute_result"
    }
   ],
   "source": [
    "Q7['Points'].mean()"
   ]
  },
  {
   "cell_type": "code",
   "execution_count": 3,
   "id": "281e4872",
   "metadata": {
    "ExecuteTime": {
     "end_time": "2022-12-14T07:12:27.314382Z",
     "start_time": "2022-12-14T07:12:27.290392Z"
    }
   },
   "outputs": [
    {
     "data": {
      "text/plain": [
       "3.6950000000000003"
      ]
     },
     "execution_count": 3,
     "metadata": {},
     "output_type": "execute_result"
    }
   ],
   "source": [
    "Q7['Points'].median()"
   ]
  },
  {
   "cell_type": "code",
   "execution_count": 4,
   "id": "01eccb53",
   "metadata": {
    "ExecuteTime": {
     "end_time": "2022-12-14T07:12:48.024819Z",
     "start_time": "2022-12-14T07:12:47.969761Z"
    }
   },
   "outputs": [
    {
     "data": {
      "text/plain": [
       "0    3.07\n",
       "1    3.92\n",
       "Name: Points, dtype: float64"
      ]
     },
     "execution_count": 4,
     "metadata": {},
     "output_type": "execute_result"
    }
   ],
   "source": [
    "Q7['Points'].mode()"
   ]
  },
  {
   "cell_type": "code",
   "execution_count": 5,
   "id": "7c8aa532",
   "metadata": {
    "ExecuteTime": {
     "end_time": "2022-12-14T07:13:07.642384Z",
     "start_time": "2022-12-14T07:13:07.626389Z"
    }
   },
   "outputs": [
    {
     "data": {
      "text/plain": [
       "0.28588135080645166"
      ]
     },
     "execution_count": 5,
     "metadata": {},
     "output_type": "execute_result"
    }
   ],
   "source": [
    "Q7['Points'].var()"
   ]
  },
  {
   "cell_type": "code",
   "execution_count": 6,
   "id": "eb440f82",
   "metadata": {
    "ExecuteTime": {
     "end_time": "2022-12-14T07:13:45.026146Z",
     "start_time": "2022-12-14T07:13:44.996706Z"
    }
   },
   "outputs": [
    {
     "data": {
      "text/plain": [
       "0.5346787360709716"
      ]
     },
     "execution_count": 6,
     "metadata": {},
     "output_type": "execute_result"
    }
   ],
   "source": [
    "Q7['Points'].std()"
   ]
  },
  {
   "cell_type": "markdown",
   "id": "c24eda69",
   "metadata": {},
   "source": [
    "# Score"
   ]
  },
  {
   "cell_type": "code",
   "execution_count": 7,
   "id": "c4f2e396",
   "metadata": {
    "ExecuteTime": {
     "end_time": "2022-12-14T07:15:57.835814Z",
     "start_time": "2022-12-14T07:15:57.811825Z"
    }
   },
   "outputs": [
    {
     "data": {
      "text/plain": [
       "3.2172499999999995"
      ]
     },
     "execution_count": 7,
     "metadata": {},
     "output_type": "execute_result"
    }
   ],
   "source": [
    "Q7['Score'].mean()"
   ]
  },
  {
   "cell_type": "code",
   "execution_count": 9,
   "id": "72a75b8e",
   "metadata": {
    "ExecuteTime": {
     "end_time": "2022-12-14T07:16:35.516292Z",
     "start_time": "2022-12-14T07:16:35.492308Z"
    }
   },
   "outputs": [
    {
     "data": {
      "text/plain": [
       "3.325"
      ]
     },
     "execution_count": 9,
     "metadata": {},
     "output_type": "execute_result"
    }
   ],
   "source": [
    "Q7['Score'].median()"
   ]
  },
  {
   "cell_type": "code",
   "execution_count": 10,
   "id": "05defb1e",
   "metadata": {
    "ExecuteTime": {
     "end_time": "2022-12-14T07:16:57.555659Z",
     "start_time": "2022-12-14T07:16:57.531621Z"
    }
   },
   "outputs": [
    {
     "data": {
      "text/plain": [
       "0    3.44\n",
       "Name: Score, dtype: float64"
      ]
     },
     "execution_count": 10,
     "metadata": {},
     "output_type": "execute_result"
    }
   ],
   "source": [
    "Q7['Score'].mode()"
   ]
  },
  {
   "cell_type": "code",
   "execution_count": 12,
   "id": "b8d3c70e",
   "metadata": {
    "ExecuteTime": {
     "end_time": "2022-12-14T07:17:50.895262Z",
     "start_time": "2022-12-14T07:17:50.879644Z"
    }
   },
   "outputs": [
    {
     "data": {
      "text/plain": [
       "0.9573789677419356"
      ]
     },
     "execution_count": 12,
     "metadata": {},
     "output_type": "execute_result"
    }
   ],
   "source": [
    "Q7['Score'].var()"
   ]
  },
  {
   "cell_type": "code",
   "execution_count": 13,
   "id": "5687fb31",
   "metadata": {
    "ExecuteTime": {
     "end_time": "2022-12-14T07:18:23.186825Z",
     "start_time": "2022-12-14T07:18:23.169603Z"
    }
   },
   "outputs": [
    {
     "data": {
      "text/plain": [
       "0.9784574429896967"
      ]
     },
     "execution_count": 13,
     "metadata": {},
     "output_type": "execute_result"
    }
   ],
   "source": [
    "Q7['Score'].std()"
   ]
  },
  {
   "cell_type": "markdown",
   "id": "c664669f",
   "metadata": {},
   "source": [
    "# Weigh"
   ]
  },
  {
   "cell_type": "code",
   "execution_count": 14,
   "id": "9ee2f4f8",
   "metadata": {
    "ExecuteTime": {
     "end_time": "2022-12-14T07:22:29.602477Z",
     "start_time": "2022-12-14T07:22:29.586432Z"
    }
   },
   "outputs": [
    {
     "data": {
      "text/plain": [
       "17.848750000000003"
      ]
     },
     "execution_count": 14,
     "metadata": {},
     "output_type": "execute_result"
    }
   ],
   "source": [
    "Q7['Weigh'].mean()"
   ]
  },
  {
   "cell_type": "code",
   "execution_count": 16,
   "id": "c790a158",
   "metadata": {
    "ExecuteTime": {
     "end_time": "2022-12-14T07:23:11.917636Z",
     "start_time": "2022-12-14T07:23:11.893645Z"
    }
   },
   "outputs": [
    {
     "data": {
      "text/plain": [
       "17.71"
      ]
     },
     "execution_count": 16,
     "metadata": {},
     "output_type": "execute_result"
    }
   ],
   "source": [
    "Q7['Weigh'].median()"
   ]
  },
  {
   "cell_type": "code",
   "execution_count": 17,
   "id": "2b422db2",
   "metadata": {
    "ExecuteTime": {
     "end_time": "2022-12-14T07:23:36.914210Z",
     "start_time": "2022-12-14T07:23:36.897375Z"
    }
   },
   "outputs": [
    {
     "data": {
      "text/plain": [
       "0    17.02\n",
       "1    18.90\n",
       "Name: Weigh, dtype: float64"
      ]
     },
     "execution_count": 17,
     "metadata": {},
     "output_type": "execute_result"
    }
   ],
   "source": [
    "Q7['Weigh'].mode()"
   ]
  },
  {
   "cell_type": "code",
   "execution_count": 18,
   "id": "d6080188",
   "metadata": {
    "ExecuteTime": {
     "end_time": "2022-12-14T07:24:16.267925Z",
     "start_time": "2022-12-14T07:24:16.255967Z"
    }
   },
   "outputs": [
    {
     "data": {
      "text/plain": [
       "3.193166129032258"
      ]
     },
     "execution_count": 18,
     "metadata": {},
     "output_type": "execute_result"
    }
   ],
   "source": [
    "Q7['Weigh'].var()"
   ]
  },
  {
   "cell_type": "code",
   "execution_count": 19,
   "id": "ea3f1b2b",
   "metadata": {
    "ExecuteTime": {
     "end_time": "2022-12-14T07:24:38.521253Z",
     "start_time": "2022-12-14T07:24:38.497241Z"
    }
   },
   "outputs": [
    {
     "data": {
      "text/plain": [
       "1.7869432360968431"
      ]
     },
     "execution_count": 19,
     "metadata": {},
     "output_type": "execute_result"
    }
   ],
   "source": [
    "Q7['Weigh'].std()"
   ]
  },
  {
   "cell_type": "code",
   "execution_count": 20,
   "id": "e1b76bf6",
   "metadata": {
    "ExecuteTime": {
     "end_time": "2022-12-14T07:26:15.059096Z",
     "start_time": "2022-12-14T07:26:15.003103Z"
    }
   },
   "outputs": [
    {
     "data": {
      "text/plain": [
       "Points     2.760\n",
       "Score      1.513\n",
       "Weigh     14.500\n",
       "dtype: float64"
      ]
     },
     "execution_count": 20,
     "metadata": {},
     "output_type": "execute_result"
    }
   ],
   "source": [
    "Q7[['Points','Score','Weigh']].min()"
   ]
  },
  {
   "cell_type": "code",
   "execution_count": 21,
   "id": "6bf237b4",
   "metadata": {
    "ExecuteTime": {
     "end_time": "2022-12-14T07:26:49.666321Z",
     "start_time": "2022-12-14T07:26:49.650285Z"
    }
   },
   "outputs": [
    {
     "data": {
      "text/plain": [
       "Points     4.930\n",
       "Score      5.424\n",
       "Weigh     22.900\n",
       "dtype: float64"
      ]
     },
     "execution_count": 21,
     "metadata": {},
     "output_type": "execute_result"
    }
   ],
   "source": [
    "Q7[['Points','Score','Weigh']].max()"
   ]
  },
  {
   "cell_type": "code",
   "execution_count": 22,
   "id": "2047a599",
   "metadata": {
    "ExecuteTime": {
     "end_time": "2022-12-14T07:28:56.627639Z",
     "start_time": "2022-12-14T07:28:56.595673Z"
    }
   },
   "outputs": [
    {
     "name": "stdout",
     "output_type": "stream",
     "text": [
      "range for Points    2.170\n",
      "Score     3.911\n",
      "Weigh     8.400\n",
      "dtype: float64\n"
     ]
    }
   ],
   "source": [
    "print(\"range for\",Q7[['Points','Score','Weigh']].max()-Q7[['Points','Score','Weigh']].min())"
   ]
  },
  {
   "cell_type": "markdown",
   "id": "ca37c3ff",
   "metadata": {},
   "source": [
    "# Q9"
   ]
  },
  {
   "cell_type": "code",
   "execution_count": 23,
   "id": "0f814fcf",
   "metadata": {
    "ExecuteTime": {
     "end_time": "2022-12-14T07:35:30.738362Z",
     "start_time": "2022-12-14T07:35:27.684045Z"
    }
   },
   "outputs": [],
   "source": [
    "import pandas as pd \n",
    "import numpy as np\n",
    "import matplotlib.pyplot as plt\n",
    "Q9=pd.read_csv(\"Q9_a.csv\")"
   ]
  },
  {
   "cell_type": "code",
   "execution_count": 24,
   "id": "cc40777f",
   "metadata": {
    "ExecuteTime": {
     "end_time": "2022-12-14T07:35:47.108134Z",
     "start_time": "2022-12-14T07:35:47.044114Z"
    }
   },
   "outputs": [
    {
     "data": {
      "text/plain": [
       "Index    0.000000\n",
       "speed   -0.117510\n",
       "dist     0.806895\n",
       "dtype: float64"
      ]
     },
     "execution_count": 24,
     "metadata": {},
     "output_type": "execute_result"
    }
   ],
   "source": [
    "Q9.skew()"
   ]
  },
  {
   "cell_type": "code",
   "execution_count": 25,
   "id": "6d175cb8",
   "metadata": {
    "ExecuteTime": {
     "end_time": "2022-12-14T07:36:20.134248Z",
     "start_time": "2022-12-14T07:36:20.118257Z"
    }
   },
   "outputs": [
    {
     "data": {
      "text/plain": [
       "Index   -1.200000\n",
       "speed   -0.508994\n",
       "dist     0.405053\n",
       "dtype: float64"
      ]
     },
     "execution_count": 25,
     "metadata": {},
     "output_type": "execute_result"
    }
   ],
   "source": [
    "Q9.kurtosis()"
   ]
  },
  {
   "cell_type": "code",
   "execution_count": 26,
   "id": "ae940b8b",
   "metadata": {
    "ExecuteTime": {
     "end_time": "2022-12-14T07:36:50.552644Z",
     "start_time": "2022-12-14T07:36:50.488582Z"
    }
   },
   "outputs": [],
   "source": [
    "import pandas as pd \n",
    "import numpy as np \n",
    "import matplotlib.pyplot as plt\n",
    "Q9=pd.read_csv(\"Q9_b.csv\")"
   ]
  },
  {
   "cell_type": "code",
   "execution_count": 27,
   "id": "ebba4d64",
   "metadata": {
    "ExecuteTime": {
     "end_time": "2022-12-14T07:37:07.886999Z",
     "start_time": "2022-12-14T07:37:07.871007Z"
    }
   },
   "outputs": [
    {
     "data": {
      "text/plain": [
       "Unnamed: 0    0.000000\n",
       "SP            1.611450\n",
       "WT           -0.614753\n",
       "dtype: float64"
      ]
     },
     "execution_count": 27,
     "metadata": {},
     "output_type": "execute_result"
    }
   ],
   "source": [
    "Q9.skew()"
   ]
  },
  {
   "cell_type": "code",
   "execution_count": 28,
   "id": "8deebf33",
   "metadata": {
    "ExecuteTime": {
     "end_time": "2022-12-14T07:37:36.406792Z",
     "start_time": "2022-12-14T07:37:36.382741Z"
    }
   },
   "outputs": [
    {
     "data": {
      "text/plain": [
       "Unnamed: 0   -1.200000\n",
       "SP            2.977329\n",
       "WT            0.950291\n",
       "dtype: float64"
      ]
     },
     "execution_count": 28,
     "metadata": {},
     "output_type": "execute_result"
    }
   ],
   "source": [
    "Q9.kurtosis()"
   ]
  },
  {
   "cell_type": "markdown",
   "id": "a9e38a86",
   "metadata": {},
   "source": [
    "# Q11"
   ]
  },
  {
   "cell_type": "code",
   "execution_count": 29,
   "id": "296db100",
   "metadata": {
    "ExecuteTime": {
     "end_time": "2022-12-14T07:44:24.910116Z",
     "start_time": "2022-12-14T07:44:18.682681Z"
    }
   },
   "outputs": [
    {
     "data": {
      "text/plain": [
       "(143.57619175546247, 256.42380824453755)"
      ]
     },
     "execution_count": 29,
     "metadata": {},
     "output_type": "execute_result"
    }
   ],
   "source": [
    "from scipy import stats\n",
    "stats.norm.interval(0.94,200,30)"
   ]
  },
  {
   "cell_type": "code",
   "execution_count": 30,
   "id": "cfaf2f3d",
   "metadata": {
    "ExecuteTime": {
     "end_time": "2022-12-14T07:45:10.813093Z",
     "start_time": "2022-12-14T07:45:10.797102Z"
    }
   },
   "outputs": [
    {
     "data": {
      "text/plain": [
       "(130.2095637787748, 269.7904362212252)"
      ]
     },
     "execution_count": 30,
     "metadata": {},
     "output_type": "execute_result"
    }
   ],
   "source": [
    "stats.norm.interval(0.98,200,30)"
   ]
  },
  {
   "cell_type": "code",
   "execution_count": 31,
   "id": "6291c2d3",
   "metadata": {
    "ExecuteTime": {
     "end_time": "2022-12-14T07:45:32.096685Z",
     "start_time": "2022-12-14T07:45:32.080636Z"
    }
   },
   "outputs": [
    {
     "data": {
      "text/plain": [
       "(138.38753268104531, 261.61246731895466)"
      ]
     },
     "execution_count": 31,
     "metadata": {},
     "output_type": "execute_result"
    }
   ],
   "source": [
    "stats.norm.interval(0.96,200,30)"
   ]
  },
  {
   "cell_type": "markdown",
   "id": "e0219eee",
   "metadata": {},
   "source": [
    "# Q12"
   ]
  },
  {
   "cell_type": "code",
   "execution_count": 32,
   "id": "1e210174",
   "metadata": {
    "ExecuteTime": {
     "end_time": "2022-12-14T07:48:12.050098Z",
     "start_time": "2022-12-14T07:48:12.034050Z"
    }
   },
   "outputs": [],
   "source": [
    "import pandas as pd\n",
    "import numpy as np\n",
    "import matplotlib.pyplot as plt\n"
   ]
  },
  {
   "cell_type": "code",
   "execution_count": 33,
   "id": "23d21e07",
   "metadata": {
    "ExecuteTime": {
     "end_time": "2022-12-14T07:48:35.737148Z",
     "start_time": "2022-12-14T07:48:35.729152Z"
    }
   },
   "outputs": [],
   "source": [
    "x=pd.Series([34,36,36,38,38,39,39,40,40,41,41,41,41,42,42,45,49,56])"
   ]
  },
  {
   "cell_type": "code",
   "execution_count": 34,
   "id": "a59f3f01",
   "metadata": {
    "ExecuteTime": {
     "end_time": "2022-12-14T07:49:05.598107Z",
     "start_time": "2022-12-14T07:49:05.582063Z"
    }
   },
   "outputs": [
    {
     "data": {
      "text/plain": [
       "41.0"
      ]
     },
     "execution_count": 34,
     "metadata": {},
     "output_type": "execute_result"
    }
   ],
   "source": [
    "x.mean()"
   ]
  },
  {
   "cell_type": "code",
   "execution_count": 35,
   "id": "8e68942e",
   "metadata": {
    "ExecuteTime": {
     "end_time": "2022-12-14T07:49:17.742802Z",
     "start_time": "2022-12-14T07:49:17.718809Z"
    }
   },
   "outputs": [
    {
     "data": {
      "text/plain": [
       "40.5"
      ]
     },
     "execution_count": 35,
     "metadata": {},
     "output_type": "execute_result"
    }
   ],
   "source": [
    "x.median()"
   ]
  },
  {
   "cell_type": "code",
   "execution_count": 36,
   "id": "f419a62f",
   "metadata": {
    "ExecuteTime": {
     "end_time": "2022-12-14T07:49:40.955314Z",
     "start_time": "2022-12-14T07:49:40.939268Z"
    }
   },
   "outputs": [
    {
     "data": {
      "text/plain": [
       "25.529411764705884"
      ]
     },
     "execution_count": 36,
     "metadata": {},
     "output_type": "execute_result"
    }
   ],
   "source": [
    "x.var()"
   ]
  },
  {
   "cell_type": "code",
   "execution_count": 37,
   "id": "efa5b2e0",
   "metadata": {
    "ExecuteTime": {
     "end_time": "2022-12-14T07:49:48.526648Z",
     "start_time": "2022-12-14T07:49:48.510605Z"
    }
   },
   "outputs": [
    {
     "data": {
      "text/plain": [
       "5.05266382858645"
      ]
     },
     "execution_count": 37,
     "metadata": {},
     "output_type": "execute_result"
    }
   ],
   "source": [
    "x.std()"
   ]
  },
  {
   "cell_type": "markdown",
   "id": "b0f7bf43",
   "metadata": {},
   "source": [
    "# Q20"
   ]
  },
  {
   "cell_type": "code",
   "execution_count": 38,
   "id": "6fb37895",
   "metadata": {
    "ExecuteTime": {
     "end_time": "2022-12-14T07:53:54.223457Z",
     "start_time": "2022-12-14T07:53:54.167454Z"
    }
   },
   "outputs": [],
   "source": [
    "import pandas as pd\n",
    "import numpy as np\n",
    "from scipy import stats\n",
    "Cars=pd.read_csv('Cars.csv')"
   ]
  },
  {
   "cell_type": "code",
   "execution_count": 39,
   "id": "2388f154",
   "metadata": {
    "ExecuteTime": {
     "end_time": "2022-12-14T07:54:26.100867Z",
     "start_time": "2022-12-14T07:54:26.076864Z"
    }
   },
   "outputs": [
    {
     "data": {
      "text/plain": [
       "34.422075728024666"
      ]
     },
     "execution_count": 39,
     "metadata": {},
     "output_type": "execute_result"
    }
   ],
   "source": [
    "Cars['MPG'].mean()"
   ]
  },
  {
   "cell_type": "code",
   "execution_count": 40,
   "id": "675ca9c7",
   "metadata": {
    "ExecuteTime": {
     "end_time": "2022-12-14T07:54:45.559365Z",
     "start_time": "2022-12-14T07:54:45.543374Z"
    }
   },
   "outputs": [
    {
     "data": {
      "text/plain": [
       "9.131444731795982"
      ]
     },
     "execution_count": 40,
     "metadata": {},
     "output_type": "execute_result"
    }
   ],
   "source": [
    "Cars['MPG'].std()"
   ]
  },
  {
   "cell_type": "code",
   "execution_count": 41,
   "id": "804f5bf9",
   "metadata": {
    "ExecuteTime": {
     "end_time": "2022-12-14T07:57:37.961916Z",
     "start_time": "2022-12-14T07:57:37.905860Z"
    }
   },
   "outputs": [
    {
     "data": {
      "text/plain": [
       "0.34759015198895815"
      ]
     },
     "execution_count": 41,
     "metadata": {},
     "output_type": "execute_result"
    }
   ],
   "source": [
    "1-stats.norm.cdf(38,34.4220,9.1314)"
   ]
  },
  {
   "cell_type": "code",
   "execution_count": 42,
   "id": "27c69a4e",
   "metadata": {
    "ExecuteTime": {
     "end_time": "2022-12-14T08:00:07.511182Z",
     "start_time": "2022-12-14T08:00:07.487413Z"
    }
   },
   "outputs": [
    {
     "data": {
      "text/plain": [
       "0.7293536121889511"
      ]
     },
     "execution_count": 42,
     "metadata": {},
     "output_type": "execute_result"
    }
   ],
   "source": [
    "stats.norm.cdf(40,34.4220,9.1314)"
   ]
  },
  {
   "cell_type": "code",
   "execution_count": 43,
   "id": "8e00ae1c",
   "metadata": {
    "ExecuteTime": {
     "end_time": "2022-12-14T08:00:24.985647Z",
     "start_time": "2022-12-14T08:00:24.953661Z"
    }
   },
   "outputs": [
    {
     "data": {
      "text/plain": [
       "0.8988704032941203"
      ]
     },
     "execution_count": 43,
     "metadata": {},
     "output_type": "execute_result"
    }
   ],
   "source": [
    "stats.norm.cdf(50,34.4220,9.1314)-stats.norm.cdf(20,34.4220,9.1314)"
   ]
  },
  {
   "cell_type": "markdown",
   "id": "404b1115",
   "metadata": {},
   "source": [
    "# Q21"
   ]
  },
  {
   "cell_type": "code",
   "execution_count": 44,
   "id": "488d2bca",
   "metadata": {
    "ExecuteTime": {
     "end_time": "2022-12-14T08:03:31.710692Z",
     "start_time": "2022-12-14T08:03:31.686702Z"
    }
   },
   "outputs": [],
   "source": [
    "import pandas as pd\n",
    "import numpy as np\n",
    "Cars=pd.read_csv('Cars.csv')"
   ]
  },
  {
   "cell_type": "code",
   "execution_count": 45,
   "id": "dd7e90f6",
   "metadata": {
    "ExecuteTime": {
     "end_time": "2022-12-14T08:03:51.606661Z",
     "start_time": "2022-12-14T08:03:51.582673Z"
    }
   },
   "outputs": [
    {
     "data": {
      "text/plain": [
       "34.422075728024666"
      ]
     },
     "execution_count": 45,
     "metadata": {},
     "output_type": "execute_result"
    }
   ],
   "source": [
    "Cars['MPG'].mean()"
   ]
  },
  {
   "cell_type": "code",
   "execution_count": 46,
   "id": "eae31e32",
   "metadata": {
    "ExecuteTime": {
     "end_time": "2022-12-14T08:04:11.155547Z",
     "start_time": "2022-12-14T08:04:11.139503Z"
    }
   },
   "outputs": [
    {
     "data": {
      "text/plain": [
       "35.15272697"
      ]
     },
     "execution_count": 46,
     "metadata": {},
     "output_type": "execute_result"
    }
   ],
   "source": [
    "Cars['MPG'].median()"
   ]
  },
  {
   "cell_type": "code",
   "execution_count": 47,
   "id": "dce7bc46",
   "metadata": {
    "ExecuteTime": {
     "end_time": "2022-12-14T08:04:25.515246Z",
     "start_time": "2022-12-14T08:04:25.491256Z"
    }
   },
   "outputs": [
    {
     "data": {
      "text/plain": [
       "0    29.629936\n",
       "Name: MPG, dtype: float64"
      ]
     },
     "execution_count": 47,
     "metadata": {},
     "output_type": "execute_result"
    }
   ],
   "source": [
    "Cars['MPG'].mode()"
   ]
  },
  {
   "cell_type": "code",
   "execution_count": 48,
   "id": "a0ab77ce",
   "metadata": {
    "ExecuteTime": {
     "end_time": "2022-12-14T08:05:30.488063Z",
     "start_time": "2022-12-14T08:05:30.358884Z"
    }
   },
   "outputs": [
    {
     "data": {
      "text/html": [
       "<div>\n",
       "<style scoped>\n",
       "    .dataframe tbody tr th:only-of-type {\n",
       "        vertical-align: middle;\n",
       "    }\n",
       "\n",
       "    .dataframe tbody tr th {\n",
       "        vertical-align: top;\n",
       "    }\n",
       "\n",
       "    .dataframe thead th {\n",
       "        text-align: right;\n",
       "    }\n",
       "</style>\n",
       "<table border=\"1\" class=\"dataframe\">\n",
       "  <thead>\n",
       "    <tr style=\"text-align: right;\">\n",
       "      <th></th>\n",
       "      <th>Waist</th>\n",
       "      <th>AT</th>\n",
       "    </tr>\n",
       "  </thead>\n",
       "  <tbody>\n",
       "    <tr>\n",
       "      <th>0</th>\n",
       "      <td>74.75</td>\n",
       "      <td>25.72</td>\n",
       "    </tr>\n",
       "    <tr>\n",
       "      <th>1</th>\n",
       "      <td>72.60</td>\n",
       "      <td>25.89</td>\n",
       "    </tr>\n",
       "    <tr>\n",
       "      <th>2</th>\n",
       "      <td>81.80</td>\n",
       "      <td>42.60</td>\n",
       "    </tr>\n",
       "    <tr>\n",
       "      <th>3</th>\n",
       "      <td>83.95</td>\n",
       "      <td>42.80</td>\n",
       "    </tr>\n",
       "    <tr>\n",
       "      <th>4</th>\n",
       "      <td>74.65</td>\n",
       "      <td>29.84</td>\n",
       "    </tr>\n",
       "    <tr>\n",
       "      <th>...</th>\n",
       "      <td>...</td>\n",
       "      <td>...</td>\n",
       "    </tr>\n",
       "    <tr>\n",
       "      <th>104</th>\n",
       "      <td>100.10</td>\n",
       "      <td>124.00</td>\n",
       "    </tr>\n",
       "    <tr>\n",
       "      <th>105</th>\n",
       "      <td>93.30</td>\n",
       "      <td>62.20</td>\n",
       "    </tr>\n",
       "    <tr>\n",
       "      <th>106</th>\n",
       "      <td>101.80</td>\n",
       "      <td>133.00</td>\n",
       "    </tr>\n",
       "    <tr>\n",
       "      <th>107</th>\n",
       "      <td>107.90</td>\n",
       "      <td>208.00</td>\n",
       "    </tr>\n",
       "    <tr>\n",
       "      <th>108</th>\n",
       "      <td>108.50</td>\n",
       "      <td>208.00</td>\n",
       "    </tr>\n",
       "  </tbody>\n",
       "</table>\n",
       "<p>109 rows × 2 columns</p>\n",
       "</div>"
      ],
      "text/plain": [
       "      Waist      AT\n",
       "0     74.75   25.72\n",
       "1     72.60   25.89\n",
       "2     81.80   42.60\n",
       "3     83.95   42.80\n",
       "4     74.65   29.84\n",
       "..      ...     ...\n",
       "104  100.10  124.00\n",
       "105   93.30   62.20\n",
       "106  101.80  133.00\n",
       "107  107.90  208.00\n",
       "108  108.50  208.00\n",
       "\n",
       "[109 rows x 2 columns]"
      ]
     },
     "execution_count": 48,
     "metadata": {},
     "output_type": "execute_result"
    }
   ],
   "source": [
    "import pandas as pd\n",
    "import numpy as np\n",
    "df=pd.read_csv('wc-at.csv')\n",
    "df"
   ]
  },
  {
   "cell_type": "code",
   "execution_count": 49,
   "id": "23d963a3",
   "metadata": {
    "ExecuteTime": {
     "end_time": "2022-12-14T08:06:17.975681Z",
     "start_time": "2022-12-14T08:06:17.951923Z"
    }
   },
   "outputs": [
    {
     "data": {
      "text/plain": [
       "Waist     91.901835\n",
       "AT       101.894037\n",
       "dtype: float64"
      ]
     },
     "execution_count": 49,
     "metadata": {},
     "output_type": "execute_result"
    }
   ],
   "source": [
    "df.mean()"
   ]
  },
  {
   "cell_type": "code",
   "execution_count": 50,
   "id": "18bfeabb",
   "metadata": {
    "ExecuteTime": {
     "end_time": "2022-12-14T08:06:27.311323Z",
     "start_time": "2022-12-14T08:06:27.300163Z"
    }
   },
   "outputs": [
    {
     "data": {
      "text/plain": [
       "Waist    90.80\n",
       "AT       96.54\n",
       "dtype: float64"
      ]
     },
     "execution_count": 50,
     "metadata": {},
     "output_type": "execute_result"
    }
   ],
   "source": [
    "df.median()"
   ]
  },
  {
   "cell_type": "code",
   "execution_count": 51,
   "id": "067e03af",
   "metadata": {
    "ExecuteTime": {
     "end_time": "2022-12-14T08:06:34.586150Z",
     "start_time": "2022-12-14T08:06:34.562105Z"
    }
   },
   "outputs": [
    {
     "data": {
      "text/html": [
       "<div>\n",
       "<style scoped>\n",
       "    .dataframe tbody tr th:only-of-type {\n",
       "        vertical-align: middle;\n",
       "    }\n",
       "\n",
       "    .dataframe tbody tr th {\n",
       "        vertical-align: top;\n",
       "    }\n",
       "\n",
       "    .dataframe thead th {\n",
       "        text-align: right;\n",
       "    }\n",
       "</style>\n",
       "<table border=\"1\" class=\"dataframe\">\n",
       "  <thead>\n",
       "    <tr style=\"text-align: right;\">\n",
       "      <th></th>\n",
       "      <th>Waist</th>\n",
       "      <th>AT</th>\n",
       "    </tr>\n",
       "  </thead>\n",
       "  <tbody>\n",
       "    <tr>\n",
       "      <th>0</th>\n",
       "      <td>94.5</td>\n",
       "      <td>121.0</td>\n",
       "    </tr>\n",
       "    <tr>\n",
       "      <th>1</th>\n",
       "      <td>106.0</td>\n",
       "      <td>123.0</td>\n",
       "    </tr>\n",
       "    <tr>\n",
       "      <th>2</th>\n",
       "      <td>108.5</td>\n",
       "      <td>NaN</td>\n",
       "    </tr>\n",
       "  </tbody>\n",
       "</table>\n",
       "</div>"
      ],
      "text/plain": [
       "   Waist     AT\n",
       "0   94.5  121.0\n",
       "1  106.0  123.0\n",
       "2  108.5    NaN"
      ]
     },
     "execution_count": 51,
     "metadata": {},
     "output_type": "execute_result"
    }
   ],
   "source": [
    "df.mode()"
   ]
  },
  {
   "cell_type": "markdown",
   "id": "ccb7b3be",
   "metadata": {},
   "source": [
    "# Q22"
   ]
  },
  {
   "cell_type": "code",
   "execution_count": 52,
   "id": "923a9938",
   "metadata": {
    "ExecuteTime": {
     "end_time": "2022-12-14T08:10:23.018530Z",
     "start_time": "2022-12-14T08:10:22.994741Z"
    }
   },
   "outputs": [
    {
     "data": {
      "text/plain": [
       "1.6448536269514722"
      ]
     },
     "execution_count": 52,
     "metadata": {},
     "output_type": "execute_result"
    }
   ],
   "source": [
    "from scipy import stats\n",
    "stats.norm.ppf(0.95)"
   ]
  },
  {
   "cell_type": "code",
   "execution_count": 53,
   "id": "c817c076",
   "metadata": {
    "ExecuteTime": {
     "end_time": "2022-12-14T08:10:36.773678Z",
     "start_time": "2022-12-14T08:10:36.757683Z"
    }
   },
   "outputs": [
    {
     "data": {
      "text/plain": [
       "1.8807936081512509"
      ]
     },
     "execution_count": 53,
     "metadata": {},
     "output_type": "execute_result"
    }
   ],
   "source": [
    "stats.norm.ppf(0.97)"
   ]
  },
  {
   "cell_type": "code",
   "execution_count": 54,
   "id": "635cb2cd",
   "metadata": {
    "ExecuteTime": {
     "end_time": "2022-12-14T08:10:52.249452Z",
     "start_time": "2022-12-14T08:10:52.241455Z"
    }
   },
   "outputs": [
    {
     "data": {
      "text/plain": [
       "0.8416212335729143"
      ]
     },
     "execution_count": 54,
     "metadata": {},
     "output_type": "execute_result"
    }
   ],
   "source": [
    "stats.norm.ppf(0.80)"
   ]
  },
  {
   "cell_type": "markdown",
   "id": "ca1d5583",
   "metadata": {},
   "source": [
    "# Q23-t scores"
   ]
  },
  {
   "cell_type": "code",
   "execution_count": 55,
   "id": "0bf3231d",
   "metadata": {
    "ExecuteTime": {
     "end_time": "2022-12-14T08:21:46.353611Z",
     "start_time": "2022-12-14T08:21:46.235133Z"
    }
   },
   "outputs": [
    {
     "data": {
      "text/plain": [
       "2.0638985616280205"
      ]
     },
     "execution_count": 55,
     "metadata": {},
     "output_type": "execute_result"
    }
   ],
   "source": [
    "from scipy import stats\n",
    "stats.t.ppf(0.975,24)"
   ]
  },
  {
   "cell_type": "code",
   "execution_count": 56,
   "id": "cfe5cb1a",
   "metadata": {
    "ExecuteTime": {
     "end_time": "2022-12-14T08:22:01.137078Z",
     "start_time": "2022-12-14T08:22:01.121086Z"
    }
   },
   "outputs": [
    {
     "data": {
      "text/plain": [
       "2.1715446760080677"
      ]
     },
     "execution_count": 56,
     "metadata": {},
     "output_type": "execute_result"
    }
   ],
   "source": [
    "stats.t.ppf(0.98,24)"
   ]
  },
  {
   "cell_type": "code",
   "execution_count": 57,
   "id": "30fb5805",
   "metadata": {
    "ExecuteTime": {
     "end_time": "2022-12-14T08:22:16.540442Z",
     "start_time": "2022-12-14T08:22:16.524445Z"
    }
   },
   "outputs": [
    {
     "data": {
      "text/plain": [
       "2.796939504772804"
      ]
     },
     "execution_count": 57,
     "metadata": {},
     "output_type": "execute_result"
    }
   ],
   "source": [
    "stats.t.ppf(0.995,24)"
   ]
  },
  {
   "cell_type": "markdown",
   "id": "0c7b8816",
   "metadata": {},
   "source": [
    "# Q24"
   ]
  },
  {
   "cell_type": "code",
   "execution_count": 58,
   "id": "3c75a456",
   "metadata": {
    "ExecuteTime": {
     "end_time": "2022-12-14T08:26:15.781169Z",
     "start_time": "2022-12-14T08:26:15.765191Z"
    }
   },
   "outputs": [],
   "source": [
    "from scipy import stats\n",
    "from scipy.stats import norm"
   ]
  },
  {
   "cell_type": "code",
   "execution_count": 59,
   "id": "62c1f92f",
   "metadata": {
    "ExecuteTime": {
     "end_time": "2022-12-14T08:26:34.791213Z",
     "start_time": "2022-12-14T08:26:34.767188Z"
    }
   },
   "outputs": [
    {
     "data": {
      "text/plain": [
       "-0.4714045207910317"
      ]
     },
     "execution_count": 59,
     "metadata": {},
     "output_type": "execute_result"
    }
   ],
   "source": [
    "t=(260-270)/(90/18**0.5) # finding t-score\n",
    "t                     "
   ]
  },
  {
   "cell_type": "code",
   "execution_count": 60,
   "id": "7ff52c9a",
   "metadata": {
    "ExecuteTime": {
     "end_time": "2022-12-14T08:27:00.378831Z",
     "start_time": "2022-12-14T08:27:00.306873Z"
    }
   },
   "outputs": [
    {
     "data": {
      "text/plain": [
       "0.32167411684460556"
      ]
     },
     "execution_count": 60,
     "metadata": {},
     "output_type": "execute_result"
    }
   ],
   "source": [
    "p_value=1-stats.t.cdf(abs(-0.4714),df=17) # using cdf function  \n",
    "p_value"
   ]
  },
  {
   "cell_type": "code",
   "execution_count": 61,
   "id": "1d47ee10",
   "metadata": {
    "ExecuteTime": {
     "end_time": "2022-12-14T08:27:15.731675Z",
     "start_time": "2022-12-14T08:27:15.707682Z"
    }
   },
   "outputs": [
    {
     "data": {
      "text/plain": [
       "0.32167411684460556"
      ]
     },
     "execution_count": 61,
     "metadata": {},
     "output_type": "execute_result"
    }
   ],
   "source": [
    "p_value=stats.t.sf(abs(-0.4714),df=17)  # using sf function\n",
    "p_value"
   ]
  },
  {
   "cell_type": "code",
   "execution_count": null,
   "id": "c1fd3d7b",
   "metadata": {},
   "outputs": [],
   "source": []
  }
 ],
 "metadata": {
  "kernelspec": {
   "display_name": "Python 3 (ipykernel)",
   "language": "python",
   "name": "python3"
  },
  "language_info": {
   "codemirror_mode": {
    "name": "ipython",
    "version": 3
   },
   "file_extension": ".py",
   "mimetype": "text/x-python",
   "name": "python",
   "nbconvert_exporter": "python",
   "pygments_lexer": "ipython3",
   "version": "3.9.13"
  }
 },
 "nbformat": 4,
 "nbformat_minor": 5
}
